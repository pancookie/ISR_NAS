{
 "cells": [
  {
   "cell_type": "code",
   "execution_count": null,
   "id": "e804f432-4dc9-4950-995f-a72794a6ffd7",
   "metadata": {},
   "outputs": [],
   "source": [
    "\"\"\"\n",
    "    Extract the AutoKeras result, do additional runs\n",
    "\n",
    "\n",
    "\"\"\""
   ]
  },
  {
   "cell_type": "code",
   "execution_count": null,
   "id": "5a8c1233-5b59-404b-941d-20d0904959e9",
   "metadata": {},
   "outputs": [],
   "source": [
    "import pdb\n",
    "import time\n",
    "import json\n",
    "import os.path\n",
    "import numpy as np\n",
    "import pandas as pd\n",
    "import datetime as dt\n",
    "import multiprocess as mp\n",
    "# ML related \n",
    "import torch\n",
    "from torch import nn\n",
    "from torch.utils.data import DataLoader\n",
    "import tensorflow as tf\n",
    "import autokeras as ak\n",
    "from tensorflow.keras.models import load_model\n",
    "\n",
    "# plot related\n",
    "import matplotlib.pyplot as plt\n",
    "import matplotlib.dates as mdates\n",
    "import matplotlib.ticker as ticker\n",
    "import matplotlib.gridspec as gridspec\n",
    "\n",
    "from glob import glob\n",
    "from tqdm import tqdm\n",
    "from random import Random\n",
    "from collections import OrderedDict\n",
    "# from multiprocessing import Pool"
   ]
  },
  {
   "cell_type": "code",
   "execution_count": null,
   "id": "00303d0b-6841-4540-9808-c03dbd8236ad",
   "metadata": {},
   "outputs": [],
   "source": [
    "#%% paths of source files\n",
    "\n",
    "path_work_fd = './data'\n",
    "path_figsav = './nel_daily'\n",
    "path_mdsav = './md_res'\n"
   ]
  },
  {
   "cell_type": "code",
   "execution_count": null,
   "id": "e0658e45-7c89-478f-8eee-6c1808cdbba9",
   "metadata": {},
   "outputs": [],
   "source": [
    "#%% parameters \n",
    "parms_raw = ['year', 'month', 'dayno', 'ut', 'slt', 'gdalt', 'gdlat', 'glon', \\\n",
    "         'fbar', 'f10.7', 'ap', 'ap3', 'bxgsm', 'bygsm', 'bzgsm', 'nel', 'dne', \\\n",
    "             'ti', 'dti', 'te', 'dte', 'vo', 'dvo']\n",
    "\n",
    "parms_pnn = ['year', 'dayno', 'ut', 'f10.7', 'ap3', 'nel']\n",
    "parms_use = ['year', 'month', 'dayno', 'ut', 'slt', 'gdalt', 'gdlat', 'glon', \\\n",
    "             'f10.7', 'ap3', 'nel', 'dne']\n",
    "\n",
    "#%% parameters \n",
    "parms_inv = ['year', 'dayno', 'ut', 'f10.7', 'ap3', 'nel']\n",
    "parms_input = ['year', 'doy_sin', 'doy_cos', 'ut_sin', 'ut_cos', 'f10.7', 'ap3']\n",
    "parms_inp_norm = ['year', 'f10.7', 'ap3']\n",
    "parms_output = ['nel']\n",
    "    \n",
    "\n",
    "# split on training/val/test sets\n",
    "list_yr_val = [2010, 2015]\n",
    "list_yr_test = [2007, 2012]\n",
    "\n",
    "# location of Millstone ISR\n",
    "isr_lat, isr_lon = 42.61, 288.51\n",
    "diff_utslt = abs(isr_lon-360)/360*24\n",
    "\n"
   ]
  },
  {
   "cell_type": "code",
   "execution_count": null,
   "id": "ad6486f3-868f-4757-b78d-611ccb699d58",
   "metadata": {},
   "outputs": [],
   "source": [
    "#%% confine to specified GPU device [please adjust accordingly]\n",
    "\n",
    "device = torch.device(\"cuda:0\" if torch.cuda.is_available() else \"cpu\")\n"
   ]
  },
  {
   "cell_type": "code",
   "execution_count": null,
   "id": "8daa9a8c-b5f2-43cf-9658-9e5d708896da",
   "metadata": {},
   "outputs": [],
   "source": [
    "#%% prepare data \n",
    "df_isr = pd.read_feather(os.path.join(path_work_fd, 'isr_hourly_ver1.lz4'))\n",
    "\n",
    "df_isr.index = pd.to_datetime(df_isr['timestamp_ut'])\n",
    "# prepare all the needed input parameters\n",
    "df_isr['year'] = df_isr.index.year\n",
    "df_isr['dayno'] = df_isr.index.dayofyear\n",
    "df_isr['ut'] = df_isr.index.hour+df_isr.index.minute/60\n",
    "\n",
    "# get cyclic on dayno and ut\n",
    "doy_sin = (np.sin(df_isr['dayno']/365 * 2*np.pi)+1)/2\n",
    "doy_cos = (np.cos(df_isr['dayno']/365 * 2*np.pi)+1)/2\n",
    "ut_sin = (np.sin(df_isr['ut']/24 * 2*np.pi)+1)/2\n",
    "ut_cos = (np.cos(df_isr['ut']/24 * 2*np.pi)+1)/2\n",
    "\n",
    "df_isr_norm = df_isr.copy(True)\n",
    "df_isr_norm['doy_sin'] = doy_sin\n",
    "df_isr_norm['doy_cos'] = doy_cos\n",
    "df_isr_norm['ut_sin'] = ut_sin\n",
    "df_isr_norm['ut_cos'] = ut_cos\n",
    "# normalize year, F10.7 and Ap3\n",
    "df_isr_norm.loc[:, parms_inp_norm] /= df_isr.loc[:, parms_inp_norm].max()\n",
    "\n",
    "# split training/validation/test\n",
    "df_isr_train_norm = df_isr_norm.loc[~df_isr_norm.index.year.isin(list_yr_val+list_yr_test)]\n",
    "df_isr_val_norm = df_isr_norm.loc[df_isr_norm.index.year.isin(list_yr_val)]\n",
    "df_isr_test_norm = df_isr_norm.loc[df_isr_norm.index.year.isin(list_yr_test)]\n",
    "\n",
    "# make DataLoader according to batch size\n",
    "train_X = df_isr_train_norm.loc[:, parms_input].values\n",
    "train_y = df_isr_train_norm.loc[:, parms_output].values\n",
    "\n",
    "val_X = df_isr_val_norm.loc[:, parms_input].values\n",
    "val_y = df_isr_val_norm.loc[:, parms_output].values\n",
    "\n",
    "test_X = df_isr_test_norm.loc[:, parms_input].values\n",
    "test_y = df_isr_test_norm.loc[:, parms_output].values\n"
   ]
  },
  {
   "cell_type": "code",
   "execution_count": null,
   "id": "c5db35de-0090-4de0-aae0-40acbf8475c5",
   "metadata": {},
   "outputs": [],
   "source": [
    "'''\n",
    "    details of the AutoKeras run\n",
    "    ak_sup/slnn_run1/\n",
    "        best_model/\n",
    "            assets/\n",
    "            variables/\n",
    "                variables.data-...\n",
    "                variables.index\n",
    "            fingerprint.pb\n",
    "            keras_metadata.pb\n",
    "            saved_model.pb\n",
    "        \n",
    "        trial_xxx/\n",
    "            checkpoint\n",
    "            checkpoint.data-...\n",
    "            checkpoint.index\n",
    "            pipeline\n",
    "            trial.json\n",
    "\n",
    "\n",
    "'''\n",
    "mdname_ak = 'slnn_run1'\n",
    "\n",
    "# load the trial with best(minimum) score\n",
    "# load the saved json file\n",
    "list_trial = sorted(glob(os.path.join(path_ak, mdname_ak, 'trial_*', 'trial.json')))\n",
    "\n",
    "list_score = []\n",
    "list_bstep = []\n",
    "\n",
    "for trial in list_trial:\n",
    "    with open(trial) as f:\n",
    "        file_json = json.load(f)\n",
    "\n",
    "    list_score.append(file_json['score'])\n",
    "    list_bstep.append(file_json['best_step'])\n",
    "\n",
    "list_score = np.array(list_score)\n",
    "list_bstep = np.array(list_bstep)\n",
    "\n",
    "    "
   ]
  },
  {
   "cell_type": "code",
   "execution_count": null,
   "id": "f46c9c79-bfef-4171-b1aa-9a7259ddba42",
   "metadata": {},
   "outputs": [],
   "source": [
    "# the best model is just the trial with best score\n",
    "idx_min = np.argmin(list_score)\n",
    "print(idx_min, list_score[idx_min], list_bstep[idx_min])\n"
   ]
  },
  {
   "cell_type": "code",
   "execution_count": null,
   "id": "3e1add7f-dde5-4b69-89f9-82a479ba2e08",
   "metadata": {},
   "outputs": [],
   "source": [
    "# load the best_model info\n",
    "md_best = load_model(os.path.join(path_ak, mdname_ak, 'best_model'))\n"
   ]
  },
  {
   "cell_type": "code",
   "execution_count": null,
   "id": "53d1892f-7de2-4977-8e62-e17f06a7dcf6",
   "metadata": {},
   "outputs": [],
   "source": [
    "print(md_best.summary())\n",
    "print(md_best.optimizer.get_config())\n"
   ]
  },
  {
   "cell_type": "code",
   "execution_count": null,
   "id": "bec13bd9-5f31-4290-aec5-0f7f7f234923",
   "metadata": {},
   "outputs": [],
   "source": [
    "# md_best.load_weights(os.path.join(path_ak, mdname_ak, f'trial_{idx_min:03d}', 'checkpoint'))\n"
   ]
  }
 ],
 "metadata": {
  "kernelspec": {
   "display_name": "Python 3 (ipykernel)",
   "language": "python",
   "name": "python3"
  },
  "language_info": {
   "codemirror_mode": {
    "name": "ipython",
    "version": 3
   },
   "file_extension": ".py",
   "mimetype": "text/x-python",
   "name": "python",
   "nbconvert_exporter": "python",
   "pygments_lexer": "ipython3",
   "version": "3.9.17"
  }
 },
 "nbformat": 4,
 "nbformat_minor": 5
}
